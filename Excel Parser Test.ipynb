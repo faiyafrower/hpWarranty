{
 "cells": [
  {
   "cell_type": "markdown",
   "metadata": {},
   "source": [
    "# This notebook will try to populate purchase and warranty info from HP, given an xlsx file containing exported inventory data"
   ]
  },
  {
   "cell_type": "code",
   "execution_count": 1,
   "metadata": {},
   "outputs": [],
   "source": [
    "import pandas as pd\n",
    "import xlrd\n",
    "import xlwt\n",
    "import requests\n",
    "import simplejson as json\n",
    "import time\n",
    "import dateutil.parser\n",
    "import datetime"
   ]
  },
  {
   "cell_type": "code",
   "execution_count": 2,
   "metadata": {},
   "outputs": [],
   "source": [
    "#Super secret\n",
    "apiKey='GWLESPEF2wHS5PwLFAUMzG9beA4LsF2Z'\n",
    "apiSecret='zFlNL8kWkX2wpnb8oAxHbkNNn5Q39VAX'\n",
    "tokenBody = { 'apiKey': apiKey, 'apiSecret': apiSecret, 'grantType': 'client_credentials', 'scope': 'warranty' }"
   ]
  },
  {
   "cell_type": "markdown",
   "metadata": {},
   "source": [
    "### Parse exported data from inventory and collect data from \"Serial\" column"
   ]
  },
  {
   "cell_type": "code",
   "execution_count": 3,
   "metadata": {},
   "outputs": [],
   "source": [
    "# Probably needs to be changed each time\n",
    "inventory_cleaned_spreadsheet = 'copied.xlsx'"
   ]
  },
  {
   "cell_type": "code",
   "execution_count": 4,
   "metadata": {},
   "outputs": [
    {
     "name": "stdout",
     "output_type": "stream",
     "text": [
      "0    MXL8021DPB\n",
      "1    2UA8141LLQ\n",
      "Name: Serial, dtype: object\n"
     ]
    }
   ],
   "source": [
    "df = pd.read_excel(inventory_cleaned_spreadsheet)\n",
    "print(df['Serial'])"
   ]
  },
  {
   "cell_type": "code",
   "execution_count": 5,
   "metadata": {},
   "outputs": [
    {
     "name": "stdout",
     "output_type": "stream",
     "text": [
      "[{'sn': 'MXL8021DPB'}, {'sn': '2UA8141LLQ'}]\n"
     ]
    }
   ],
   "source": [
    "data = []\n",
    "for row in df.Serial.iteritems():\n",
    "    temp_dict = {'sn': row[1]}\n",
    "    #print(temp_dict)\n",
    "    data.append(temp_dict)\n",
    "print(data)"
   ]
  },
  {
   "cell_type": "code",
   "execution_count": 6,
   "metadata": {},
   "outputs": [],
   "source": [
    "def _url(path):\n",
    "    return 'https://css.api.hp.com' + path"
   ]
  },
  {
   "cell_type": "code",
   "execution_count": 7,
   "metadata": {},
   "outputs": [
    {
     "name": "stdout",
     "output_type": "stream",
     "text": [
      "{'access_token': 'GAYYbLEIihNDdJBuq7GuifobUXhF', 'expires_in': '3599', 'scope': 'warranty'}\n"
     ]
    }
   ],
   "source": [
    "tokenHeaders = { 'Accept': 'application/json' }\n",
    "tokenResponse = requests.post(_url('/oauth/v1/token'), data=tokenBody, headers=tokenHeaders)\n",
    "tokenJson = tokenResponse.json()\n",
    "print(tokenJson)\n",
    "token = tokenJson['access_token']\n",
    "jobHeaders = {\n",
    "    'Accept': 'application/json',\n",
    "    'Authorization': 'Bearer ' + token,\n",
    "    'Content-Type': 'application/json'\n",
    "}\n",
    "#print(jobHeaders)"
   ]
  },
  {
   "cell_type": "markdown",
   "metadata": {},
   "source": [
    "### Run the API calls with HP"
   ]
  },
  {
   "cell_type": "code",
   "execution_count": 10,
   "metadata": {},
   "outputs": [
    {
     "name": "stdout",
     "output_type": "stream",
     "text": [
      "Creating new batch job...\n",
      "Batch job created successfully.\n",
      "--------------------\n",
      "{'fault': {'faultstring': 'Unable to identify proxy for host: CSSITSecure and url: /productWarranty/v1/jobs/', 'detail': {'errorcode': 'messaging.adaptors.http.flow.ApplicationNotFound'}}}\n"
     ]
    },
    {
     "ename": "KeyError",
     "evalue": "'jobId'",
     "output_type": "error",
     "traceback": [
      "\u001b[0;31m---------------------------------------------------------------------------\u001b[0m",
      "\u001b[0;31mKeyError\u001b[0m                                  Traceback (most recent call last)",
      "\u001b[0;32m<ipython-input-10-fbfb13e961e8>\u001b[0m in \u001b[0;36m<module>\u001b[0;34m\u001b[0m\n\u001b[1;32m      6\u001b[0m \u001b[0mprint\u001b[0m\u001b[0;34m(\u001b[0m\u001b[0;34m'--------------------'\u001b[0m\u001b[0;34m)\u001b[0m\u001b[0;34m\u001b[0m\u001b[0;34m\u001b[0m\u001b[0m\n\u001b[1;32m      7\u001b[0m \u001b[0mprint\u001b[0m\u001b[0;34m(\u001b[0m\u001b[0mjob\u001b[0m\u001b[0;34m)\u001b[0m\u001b[0;34m\u001b[0m\u001b[0;34m\u001b[0m\u001b[0m\n\u001b[0;32m----> 8\u001b[0;31m \u001b[0mprint\u001b[0m\u001b[0;34m(\u001b[0m\u001b[0;34m'Job ID: '\u001b[0m \u001b[0;34m+\u001b[0m \u001b[0mjob\u001b[0m\u001b[0;34m[\u001b[0m\u001b[0;34m'jobId'\u001b[0m\u001b[0;34m]\u001b[0m\u001b[0;34m)\u001b[0m\u001b[0;34m\u001b[0m\u001b[0;34m\u001b[0m\u001b[0m\n\u001b[0m\u001b[1;32m      9\u001b[0m \u001b[0mprint\u001b[0m\u001b[0;34m(\u001b[0m\u001b[0;34m'Estimated time in seconds to completion: '\u001b[0m \u001b[0;34m+\u001b[0m \u001b[0mstr\u001b[0m\u001b[0;34m(\u001b[0m\u001b[0mjob\u001b[0m\u001b[0;34m[\u001b[0m\u001b[0;34m'estimatedTime'\u001b[0m\u001b[0;34m]\u001b[0m\u001b[0;34m)\u001b[0m\u001b[0;34m)\u001b[0m\u001b[0;34m\u001b[0m\u001b[0;34m\u001b[0m\u001b[0m\n\u001b[1;32m     10\u001b[0m \u001b[0mprint\u001b[0m\u001b[0;34m(\u001b[0m\u001b[0;34m''\u001b[0m\u001b[0;34m)\u001b[0m\u001b[0;34m\u001b[0m\u001b[0;34m\u001b[0m\u001b[0m\n",
      "\u001b[0;31mKeyError\u001b[0m: 'jobId'"
     ]
    }
   ],
   "source": [
    "print('Creating new batch job...')\n",
    "jobResponse = requests.post(_url('/productWarranty/v1/jobs/'), data = json.dumps(data), headers = jobHeaders)\n",
    "job = jobResponse.json()\n",
    "\n",
    "print('Batch job created successfully.')\n",
    "print('--------------------')\n",
    "print(job)\n",
    "print('Job ID: ' + job['jobId'])\n",
    "print('Estimated time in seconds to completion: ' + str(job['estimatedTime']))\n",
    "print('')\n",
    "if (job['estimatedTime'] > 1200):\n",
    "    time.sleep(600)\n",
    "else:\n",
    "    time.sleep(300)"
   ]
  },
  {
   "cell_type": "markdown",
   "metadata": {},
   "source": [
    "Waiting around for it to finish"
   ]
  },
  {
   "cell_type": "code",
   "execution_count": null,
   "metadata": {},
   "outputs": [],
   "source": [
    "headers = {\n",
    "    'Authorization': 'Bearer ' + token,\n",
    "    'Accept-Encoding': 'gzip,deflate'\n",
    "}\n",
    "status = 'incomplete'\n",
    "\n",
    "while (status == 'incomplete'):\n",
    "    monitorResponse = requests.get('https://css.api.hp.com/productWarranty/v1/jobs/' + job['jobId']), headers=headers)\n",
    "    monitor = monitorResponse.json()\n",
    "    if (monitor['status'] != \"completed\"):\n",
    "        if (monitor['estimatedTime'] > 1200):\n",
    "            print('Estimated time in seconds to completion: ' + str(monitor['estimatedTime']) + '\\nNext job check in 10 minutes...\\n')\n",
    "            time.sleep(200)\n",
    "        elif (monitor['estimatedTime'] > 600):\n",
    "            print('Estimated time in seconds to completion: ' + str(monitor['estimatedTime']) + '\\nNext job check in 5 minutes...\\n')\n",
    "            time.sleep(100)\n",
    "        else:\n",
    "            print('Estimated time in seconds to completion: ' + str(monitor['estimatedTime']) + '\\nNext job check in 1 minute...\\n')\n",
    "            time.sleep(10)\n",
    "    else:\n",
    "        status = 'complete'"
   ]
  },
  {
   "cell_type": "markdown",
   "metadata": {},
   "source": [
    "### Print out the purchase and warranty dates"
   ]
  },
  {
   "cell_type": "code",
   "execution_count": null,
   "metadata": {},
   "outputs": [],
   "source": [
    "resultsResponse = requests.get(_url('/productWarranty/v2/jobs/' + job['jobId'] + '/results'), headers=headers)\n",
    "results = resultsResponse.json()\n",
    "today = datetime.date.today()\n",
    "\n",
    "for r in results:\n",
    "    serialNumber = r[\"product\"][\"serialNumber\"]\n",
    "    print(\"\\n=====New Product=====\")\n",
    "    for offer in r[\"offers\"]:\n",
    "        if \"HP HW Maintenance Onsite Support\" in offer[\"offerDescription\"]:\n",
    "            print(\"Warranty Started: \" + offer[\"serviceObligationLineItemStartDate\"])\n",
    "            print(\"Warranty Ended: \" + offer[\"serviceObligationLineItemEndDate\"])\n",
    "            parsed = dateutil.parser.parse(offer['serviceObligationLineItemEndDate']).date()\n",
    "            if today < parsed:\n",
    "                print('Warranty active for ' + serialNumber + \"\\n\")\n",
    "            else:\n",
    "                print('Warranty inactive for ' + serialNumber + \"\\n\")"
   ]
  },
  {
   "cell_type": "markdown",
   "metadata": {},
   "source": [
    "### Save a raw json file with the data"
   ]
  },
  {
   "cell_type": "code",
   "execution_count": null,
   "metadata": {},
   "outputs": [],
   "source": [
    "try:\n",
    "    f = open(job['jobId'] + '.json', 'w')\n",
    "    f.write(json.dumps(results))\n",
    "    print(\"\\nWarranty information was retrieved for \" + str(len(results)) + \" objects.\\nTo view raw data, see \" + job['jobId'] + \".json.\")\n",
    "    f.close()\n",
    "except Exception:\n",
    "    print(\"\\nWarranty information was retrieved for \" + str(len(results)) + ' objects.\\nRaw data could not be written to file.')"
   ]
  }
 ],
 "metadata": {
  "kernelspec": {
   "display_name": "Python 3",
   "language": "python",
   "name": "python3"
  },
  "language_info": {
   "codemirror_mode": {
    "name": "ipython",
    "version": 3
   },
   "file_extension": ".py",
   "mimetype": "text/x-python",
   "name": "python",
   "nbconvert_exporter": "python",
   "pygments_lexer": "ipython3",
   "version": "3.7.2"
  }
 },
 "nbformat": 4,
 "nbformat_minor": 2
}
